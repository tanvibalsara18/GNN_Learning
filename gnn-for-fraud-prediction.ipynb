{
 "cells": [
  {
   "cell_type": "code",
   "execution_count": 1,
   "id": "e97d3622",
   "metadata": {
    "_cell_guid": "b1076dfc-b9ad-4769-8c92-a6c4dae69d19",
    "_uuid": "8f2839f25d086af736a60e9eeb907d3b93b6e0e5",
    "execution": {
     "iopub.execute_input": "2024-06-05T12:34:19.608796Z",
     "iopub.status.busy": "2024-06-05T12:34:19.608369Z",
     "iopub.status.idle": "2024-06-05T12:34:20.562769Z",
     "shell.execute_reply": "2024-06-05T12:34:20.561002Z"
    },
    "papermill": {
     "duration": 0.967756,
     "end_time": "2024-06-05T12:34:20.565748",
     "exception": false,
     "start_time": "2024-06-05T12:34:19.597992",
     "status": "completed"
    },
    "tags": []
   },
   "outputs": [
    {
     "name": "stdout",
     "output_type": "stream",
     "text": [
      "/kaggle/input/elliptic-data-set/elliptic_bitcoin_dataset/elliptic_txs_features.csv\n",
      "/kaggle/input/elliptic-data-set/elliptic_bitcoin_dataset/elliptic_txs_classes.csv\n",
      "/kaggle/input/elliptic-data-set/elliptic_bitcoin_dataset/elliptic_txs_edgelist.csv\n",
      "/kaggle/input/elliptic-data-set/elliptic_bitcoin_dataset/elliptic_bitcoin_dataset/elliptic_txs_features.csv\n",
      "/kaggle/input/elliptic-data-set/elliptic_bitcoin_dataset/elliptic_bitcoin_dataset/elliptic_txs_classes.csv\n",
      "/kaggle/input/elliptic-data-set/elliptic_bitcoin_dataset/elliptic_bitcoin_dataset/elliptic_txs_edgelist.csv\n"
     ]
    }
   ],
   "source": [
    "# This Python 3 environment comes with many helpful analytics libraries installed\n",
    "# It is defined by the kaggle/python Docker image: https://github.com/kaggle/docker-python\n",
    "# For example, here's several helpful packages to load\n",
    "\n",
    "import numpy as np # linear algebra\n",
    "import pandas as pd # data processing, CSV file I/O (e.g. pd.read_csv)\n",
    "\n",
    "# Input data files are available in the read-only \"../input/\" directory\n",
    "# For example, running this (by clicking run or pressing Shift+Enter) will list all files under the input directory\n",
    "\n",
    "import os\n",
    "for dirname, _, filenames in os.walk('/kaggle/input'):\n",
    "    for filename in filenames:\n",
    "        print(os.path.join(dirname, filename))\n",
    "\n",
    "# You can write up to 20GB to the current directory (/kaggle/working/) that gets preserved as output when you create a version using \"Save & Run All\" \n",
    "# You can also write temporary files to /kaggle/temp/, but they won't be saved outside of the current session"
   ]
  },
  {
   "cell_type": "code",
   "execution_count": 2,
   "id": "080819a3",
   "metadata": {
    "execution": {
     "iopub.execute_input": "2024-06-05T12:34:20.581601Z",
     "iopub.status.busy": "2024-06-05T12:34:20.580667Z",
     "iopub.status.idle": "2024-06-05T12:34:38.504210Z",
     "shell.execute_reply": "2024-06-05T12:34:38.502887Z"
    },
    "papermill": {
     "duration": 17.934607,
     "end_time": "2024-06-05T12:34:38.507205",
     "exception": false,
     "start_time": "2024-06-05T12:34:20.572598",
     "status": "completed"
    },
    "tags": []
   },
   "outputs": [
    {
     "name": "stdout",
     "output_type": "stream",
     "text": [
      "Edges:\n"
     ]
    },
    {
     "data": {
      "text/html": [
       "<div>\n",
       "<style scoped>\n",
       "    .dataframe tbody tr th:only-of-type {\n",
       "        vertical-align: middle;\n",
       "    }\n",
       "\n",
       "    .dataframe tbody tr th {\n",
       "        vertical-align: top;\n",
       "    }\n",
       "\n",
       "    .dataframe thead th {\n",
       "        text-align: right;\n",
       "    }\n",
       "</style>\n",
       "<table border=\"1\" class=\"dataframe\">\n",
       "  <thead>\n",
       "    <tr style=\"text-align: right;\">\n",
       "      <th></th>\n",
       "      <th>txId1</th>\n",
       "      <th>txId2</th>\n",
       "    </tr>\n",
       "  </thead>\n",
       "  <tbody>\n",
       "    <tr>\n",
       "      <th>0</th>\n",
       "      <td>230425980</td>\n",
       "      <td>5530458</td>\n",
       "    </tr>\n",
       "    <tr>\n",
       "      <th>1</th>\n",
       "      <td>232022460</td>\n",
       "      <td>232438397</td>\n",
       "    </tr>\n",
       "    <tr>\n",
       "      <th>2</th>\n",
       "      <td>230460314</td>\n",
       "      <td>230459870</td>\n",
       "    </tr>\n",
       "    <tr>\n",
       "      <th>3</th>\n",
       "      <td>230333930</td>\n",
       "      <td>230595899</td>\n",
       "    </tr>\n",
       "    <tr>\n",
       "      <th>4</th>\n",
       "      <td>232013274</td>\n",
       "      <td>232029206</td>\n",
       "    </tr>\n",
       "  </tbody>\n",
       "</table>\n",
       "</div>"
      ],
      "text/plain": [
       "       txId1      txId2\n",
       "0  230425980    5530458\n",
       "1  232022460  232438397\n",
       "2  230460314  230459870\n",
       "3  230333930  230595899\n",
       "4  232013274  232029206"
      ]
     },
     "execution_count": 2,
     "metadata": {},
     "output_type": "execute_result"
    }
   ],
   "source": [
    "import pandas as pd\n",
    "\n",
    "# Load the dataset\n",
    "edges = pd.read_csv('/kaggle/input/elliptic-data-set/elliptic_bitcoin_dataset/elliptic_txs_edgelist.csv')\n",
    "classes = pd.read_csv('/kaggle/input/elliptic-data-set/elliptic_bitcoin_dataset/elliptic_txs_classes.csv')\n",
    "features = pd.read_csv('/kaggle/input/elliptic-data-set/elliptic_bitcoin_dataset/elliptic_txs_features.csv', header=None)\n",
    "\n",
    "# Display the first few rows of each DataFrame\n",
    "print(\"Edges:\")\n",
    "edges.head()\n",
    "\n"
   ]
  },
  {
   "cell_type": "code",
   "execution_count": 3,
   "id": "519060a2",
   "metadata": {
    "execution": {
     "iopub.execute_input": "2024-06-05T12:34:38.523324Z",
     "iopub.status.busy": "2024-06-05T12:34:38.522850Z",
     "iopub.status.idle": "2024-06-05T12:34:38.536436Z",
     "shell.execute_reply": "2024-06-05T12:34:38.535222Z"
    },
    "papermill": {
     "duration": 0.024631,
     "end_time": "2024-06-05T12:34:38.539028",
     "exception": false,
     "start_time": "2024-06-05T12:34:38.514397",
     "status": "completed"
    },
    "tags": []
   },
   "outputs": [
    {
     "name": "stdout",
     "output_type": "stream",
     "text": [
      "\n",
      "Classes:\n"
     ]
    },
    {
     "data": {
      "text/html": [
       "<div>\n",
       "<style scoped>\n",
       "    .dataframe tbody tr th:only-of-type {\n",
       "        vertical-align: middle;\n",
       "    }\n",
       "\n",
       "    .dataframe tbody tr th {\n",
       "        vertical-align: top;\n",
       "    }\n",
       "\n",
       "    .dataframe thead th {\n",
       "        text-align: right;\n",
       "    }\n",
       "</style>\n",
       "<table border=\"1\" class=\"dataframe\">\n",
       "  <thead>\n",
       "    <tr style=\"text-align: right;\">\n",
       "      <th></th>\n",
       "      <th>txId</th>\n",
       "      <th>class</th>\n",
       "    </tr>\n",
       "  </thead>\n",
       "  <tbody>\n",
       "    <tr>\n",
       "      <th>0</th>\n",
       "      <td>230425980</td>\n",
       "      <td>unknown</td>\n",
       "    </tr>\n",
       "    <tr>\n",
       "      <th>1</th>\n",
       "      <td>5530458</td>\n",
       "      <td>unknown</td>\n",
       "    </tr>\n",
       "    <tr>\n",
       "      <th>2</th>\n",
       "      <td>232022460</td>\n",
       "      <td>unknown</td>\n",
       "    </tr>\n",
       "    <tr>\n",
       "      <th>3</th>\n",
       "      <td>232438397</td>\n",
       "      <td>2</td>\n",
       "    </tr>\n",
       "    <tr>\n",
       "      <th>4</th>\n",
       "      <td>230460314</td>\n",
       "      <td>unknown</td>\n",
       "    </tr>\n",
       "  </tbody>\n",
       "</table>\n",
       "</div>"
      ],
      "text/plain": [
       "        txId    class\n",
       "0  230425980  unknown\n",
       "1    5530458  unknown\n",
       "2  232022460  unknown\n",
       "3  232438397        2\n",
       "4  230460314  unknown"
      ]
     },
     "execution_count": 3,
     "metadata": {},
     "output_type": "execute_result"
    }
   ],
   "source": [
    "print(\"\\nClasses:\")\n",
    "classes.head()"
   ]
  },
  {
   "cell_type": "code",
   "execution_count": 4,
   "id": "2bfee73e",
   "metadata": {
    "execution": {
     "iopub.execute_input": "2024-06-05T12:34:38.556232Z",
     "iopub.status.busy": "2024-06-05T12:34:38.555796Z",
     "iopub.status.idle": "2024-06-05T12:34:38.590116Z",
     "shell.execute_reply": "2024-06-05T12:34:38.588697Z"
    },
    "papermill": {
     "duration": 0.045949,
     "end_time": "2024-06-05T12:34:38.592681",
     "exception": false,
     "start_time": "2024-06-05T12:34:38.546732",
     "status": "completed"
    },
    "tags": []
   },
   "outputs": [
    {
     "name": "stdout",
     "output_type": "stream",
     "text": [
      "\n",
      "Features:\n"
     ]
    },
    {
     "data": {
      "text/html": [
       "<div>\n",
       "<style scoped>\n",
       "    .dataframe tbody tr th:only-of-type {\n",
       "        vertical-align: middle;\n",
       "    }\n",
       "\n",
       "    .dataframe tbody tr th {\n",
       "        vertical-align: top;\n",
       "    }\n",
       "\n",
       "    .dataframe thead th {\n",
       "        text-align: right;\n",
       "    }\n",
       "</style>\n",
       "<table border=\"1\" class=\"dataframe\">\n",
       "  <thead>\n",
       "    <tr style=\"text-align: right;\">\n",
       "      <th></th>\n",
       "      <th>0</th>\n",
       "      <th>1</th>\n",
       "      <th>2</th>\n",
       "      <th>3</th>\n",
       "      <th>4</th>\n",
       "      <th>5</th>\n",
       "      <th>6</th>\n",
       "      <th>7</th>\n",
       "      <th>8</th>\n",
       "      <th>9</th>\n",
       "      <th>...</th>\n",
       "      <th>157</th>\n",
       "      <th>158</th>\n",
       "      <th>159</th>\n",
       "      <th>160</th>\n",
       "      <th>161</th>\n",
       "      <th>162</th>\n",
       "      <th>163</th>\n",
       "      <th>164</th>\n",
       "      <th>165</th>\n",
       "      <th>166</th>\n",
       "    </tr>\n",
       "  </thead>\n",
       "  <tbody>\n",
       "    <tr>\n",
       "      <th>0</th>\n",
       "      <td>230425980</td>\n",
       "      <td>1</td>\n",
       "      <td>-0.171469</td>\n",
       "      <td>-0.184668</td>\n",
       "      <td>-1.201369</td>\n",
       "      <td>-0.121970</td>\n",
       "      <td>-0.043875</td>\n",
       "      <td>-0.113002</td>\n",
       "      <td>-0.061584</td>\n",
       "      <td>-0.162097</td>\n",
       "      <td>...</td>\n",
       "      <td>-0.562153</td>\n",
       "      <td>-0.600999</td>\n",
       "      <td>1.461330</td>\n",
       "      <td>1.461369</td>\n",
       "      <td>0.018279</td>\n",
       "      <td>-0.087490</td>\n",
       "      <td>-0.131155</td>\n",
       "      <td>-0.097524</td>\n",
       "      <td>-0.120613</td>\n",
       "      <td>-0.119792</td>\n",
       "    </tr>\n",
       "    <tr>\n",
       "      <th>1</th>\n",
       "      <td>5530458</td>\n",
       "      <td>1</td>\n",
       "      <td>-0.171484</td>\n",
       "      <td>-0.184668</td>\n",
       "      <td>-1.201369</td>\n",
       "      <td>-0.121970</td>\n",
       "      <td>-0.043875</td>\n",
       "      <td>-0.113002</td>\n",
       "      <td>-0.061584</td>\n",
       "      <td>-0.162112</td>\n",
       "      <td>...</td>\n",
       "      <td>0.947382</td>\n",
       "      <td>0.673103</td>\n",
       "      <td>-0.979074</td>\n",
       "      <td>-0.978556</td>\n",
       "      <td>0.018279</td>\n",
       "      <td>-0.087490</td>\n",
       "      <td>-0.131155</td>\n",
       "      <td>-0.097524</td>\n",
       "      <td>-0.120613</td>\n",
       "      <td>-0.119792</td>\n",
       "    </tr>\n",
       "    <tr>\n",
       "      <th>2</th>\n",
       "      <td>232022460</td>\n",
       "      <td>1</td>\n",
       "      <td>-0.172107</td>\n",
       "      <td>-0.184668</td>\n",
       "      <td>-1.201369</td>\n",
       "      <td>-0.121970</td>\n",
       "      <td>-0.043875</td>\n",
       "      <td>-0.113002</td>\n",
       "      <td>-0.061584</td>\n",
       "      <td>-0.162749</td>\n",
       "      <td>...</td>\n",
       "      <td>0.670883</td>\n",
       "      <td>0.439728</td>\n",
       "      <td>-0.979074</td>\n",
       "      <td>-0.978556</td>\n",
       "      <td>-0.098889</td>\n",
       "      <td>-0.106715</td>\n",
       "      <td>-0.131155</td>\n",
       "      <td>-0.183671</td>\n",
       "      <td>-0.120613</td>\n",
       "      <td>-0.119792</td>\n",
       "    </tr>\n",
       "    <tr>\n",
       "      <th>3</th>\n",
       "      <td>232438397</td>\n",
       "      <td>1</td>\n",
       "      <td>0.163054</td>\n",
       "      <td>1.963790</td>\n",
       "      <td>-0.646376</td>\n",
       "      <td>12.409294</td>\n",
       "      <td>-0.063725</td>\n",
       "      <td>9.782742</td>\n",
       "      <td>12.414558</td>\n",
       "      <td>-0.163645</td>\n",
       "      <td>...</td>\n",
       "      <td>-0.577099</td>\n",
       "      <td>-0.613614</td>\n",
       "      <td>0.241128</td>\n",
       "      <td>0.241406</td>\n",
       "      <td>1.072793</td>\n",
       "      <td>0.085530</td>\n",
       "      <td>-0.131155</td>\n",
       "      <td>0.677799</td>\n",
       "      <td>-0.120613</td>\n",
       "      <td>-0.119792</td>\n",
       "    </tr>\n",
       "    <tr>\n",
       "      <th>4</th>\n",
       "      <td>230460314</td>\n",
       "      <td>1</td>\n",
       "      <td>1.011523</td>\n",
       "      <td>-0.081127</td>\n",
       "      <td>-1.201369</td>\n",
       "      <td>1.153668</td>\n",
       "      <td>0.333276</td>\n",
       "      <td>1.312656</td>\n",
       "      <td>-0.061584</td>\n",
       "      <td>-0.163523</td>\n",
       "      <td>...</td>\n",
       "      <td>-0.511871</td>\n",
       "      <td>-0.400422</td>\n",
       "      <td>0.517257</td>\n",
       "      <td>0.579382</td>\n",
       "      <td>0.018279</td>\n",
       "      <td>0.277775</td>\n",
       "      <td>0.326394</td>\n",
       "      <td>1.293750</td>\n",
       "      <td>0.178136</td>\n",
       "      <td>0.179117</td>\n",
       "    </tr>\n",
       "  </tbody>\n",
       "</table>\n",
       "<p>5 rows × 167 columns</p>\n",
       "</div>"
      ],
      "text/plain": [
       "         0    1         2         3         4          5         6    \\\n",
       "0  230425980    1 -0.171469 -0.184668 -1.201369  -0.121970 -0.043875   \n",
       "1    5530458    1 -0.171484 -0.184668 -1.201369  -0.121970 -0.043875   \n",
       "2  232022460    1 -0.172107 -0.184668 -1.201369  -0.121970 -0.043875   \n",
       "3  232438397    1  0.163054  1.963790 -0.646376  12.409294 -0.063725   \n",
       "4  230460314    1  1.011523 -0.081127 -1.201369   1.153668  0.333276   \n",
       "\n",
       "        7          8         9    ...       157       158       159       160  \\\n",
       "0 -0.113002  -0.061584 -0.162097  ... -0.562153 -0.600999  1.461330  1.461369   \n",
       "1 -0.113002  -0.061584 -0.162112  ...  0.947382  0.673103 -0.979074 -0.978556   \n",
       "2 -0.113002  -0.061584 -0.162749  ...  0.670883  0.439728 -0.979074 -0.978556   \n",
       "3  9.782742  12.414558 -0.163645  ... -0.577099 -0.613614  0.241128  0.241406   \n",
       "4  1.312656  -0.061584 -0.163523  ... -0.511871 -0.400422  0.517257  0.579382   \n",
       "\n",
       "        161       162       163       164       165       166  \n",
       "0  0.018279 -0.087490 -0.131155 -0.097524 -0.120613 -0.119792  \n",
       "1  0.018279 -0.087490 -0.131155 -0.097524 -0.120613 -0.119792  \n",
       "2 -0.098889 -0.106715 -0.131155 -0.183671 -0.120613 -0.119792  \n",
       "3  1.072793  0.085530 -0.131155  0.677799 -0.120613 -0.119792  \n",
       "4  0.018279  0.277775  0.326394  1.293750  0.178136  0.179117  \n",
       "\n",
       "[5 rows x 167 columns]"
      ]
     },
     "execution_count": 4,
     "metadata": {},
     "output_type": "execute_result"
    }
   ],
   "source": [
    "print(\"\\nFeatures:\")\n",
    "features.head()"
   ]
  },
  {
   "cell_type": "code",
   "execution_count": 5,
   "id": "91f43ef9",
   "metadata": {
    "execution": {
     "iopub.execute_input": "2024-06-05T12:34:38.610365Z",
     "iopub.status.busy": "2024-06-05T12:34:38.609906Z",
     "iopub.status.idle": "2024-06-05T12:34:40.326985Z",
     "shell.execute_reply": "2024-06-05T12:34:40.325760Z"
    },
    "papermill": {
     "duration": 1.729024,
     "end_time": "2024-06-05T12:34:40.329648",
     "exception": false,
     "start_time": "2024-06-05T12:34:38.600624",
     "status": "completed"
    },
    "tags": []
   },
   "outputs": [
    {
     "name": "stdout",
     "output_type": "stream",
     "text": [
      "\n",
      "Edges Info:\n",
      "<class 'pandas.core.frame.DataFrame'>\n",
      "RangeIndex: 234355 entries, 0 to 234354\n",
      "Data columns (total 2 columns):\n",
      " #   Column  Non-Null Count   Dtype\n",
      "---  ------  --------------   -----\n",
      " 0   txId1   234355 non-null  int64\n",
      " 1   txId2   234355 non-null  int64\n",
      "dtypes: int64(2)\n",
      "memory usage: 3.6 MB\n",
      "\n",
      "Classes Info:\n",
      "<class 'pandas.core.frame.DataFrame'>\n",
      "RangeIndex: 203769 entries, 0 to 203768\n",
      "Data columns (total 2 columns):\n",
      " #   Column  Non-Null Count   Dtype \n",
      "---  ------  --------------   ----- \n",
      " 0   txId    203769 non-null  int64 \n",
      " 1   class   203769 non-null  object\n",
      "dtypes: int64(1), object(1)\n",
      "memory usage: 3.1+ MB\n",
      "\n",
      "Features Info:\n",
      "<class 'pandas.core.frame.DataFrame'>\n",
      "RangeIndex: 203769 entries, 0 to 203768\n",
      "Columns: 167 entries, 0 to 166\n",
      "dtypes: float64(165), int64(2)\n",
      "memory usage: 259.6 MB\n",
      "\n",
      "Class Distribution:\n",
      "class\n",
      "unknown    157205\n",
      "2           42019\n",
      "1            4545\n",
      "Name: count, dtype: int64\n"
     ]
    }
   ],
   "source": [
    "# Check the basic statistics and data types\n",
    "print(\"\\nEdges Info:\")\n",
    "edges.info()\n",
    "edges.describe()\n",
    "\n",
    "print(\"\\nClasses Info:\")\n",
    "classes.info()\n",
    "classes.describe()\n",
    "\n",
    "print(\"\\nFeatures Info:\")\n",
    "features.info()\n",
    "features.describe()\n",
    "\n",
    "# Check the distribution of classes\n",
    "class_distribution = classes['class'].value_counts()\n",
    "print(\"\\nClass Distribution:\")\n",
    "print(class_distribution)\n"
   ]
  },
  {
   "cell_type": "code",
   "execution_count": 6,
   "id": "0dcd3219",
   "metadata": {
    "execution": {
     "iopub.execute_input": "2024-06-05T12:34:40.348012Z",
     "iopub.status.busy": "2024-06-05T12:34:40.347603Z",
     "iopub.status.idle": "2024-06-05T12:34:41.627302Z",
     "shell.execute_reply": "2024-06-05T12:34:41.626033Z"
    },
    "papermill": {
     "duration": 1.292208,
     "end_time": "2024-06-05T12:34:41.630068",
     "exception": false,
     "start_time": "2024-06-05T12:34:40.337860",
     "status": "completed"
    },
    "tags": []
   },
   "outputs": [
    {
     "data": {
      "image/png": "[encoded data removed]",
      "text/plain": [
       "<Figure size 800x600 with 1 Axes>"
      ]
     },
     "metadata": {},
     "output_type": "display_data"
    }
   ],
   "source": [
    "import matplotlib.pyplot as plt\n",
    "import networkx as nx\n",
    "\n",
    "# Visualize the class distribution\n",
    "plt.figure(figsize=(8, 6))\n",
    "class_distribution.plot(kind='bar')\n",
    "plt.title('Class Distribution')\n",
    "plt.xlabel('Class')\n",
    "plt.ylabel('Frequency')\n",
    "plt.show()\n",
    "\n",
    "# # Create a graph and visualize a subset of the transactions\n",
    "# G = nx.from_pandas_edgelist(edges, source='txId1', target='txId2')\n",
    "\n",
    "# plt.figure(figsize=(12, 8))\n",
    "# pos = nx.spring_layout(G, seed=42)  # positions for all nodes\n",
    "# nx.draw(G, pos, node_size=10, edge_color='gray', alpha=0.5, with_labels=False)\n",
    "# plt.title('Transaction Network (Subset)')\n",
    "# plt.show()\n"
   ]
  },
  {
   "cell_type": "code",
   "execution_count": 7,
   "id": "4d7638ae",
   "metadata": {
    "execution": {
     "iopub.execute_input": "2024-06-05T12:34:41.648821Z",
     "iopub.status.busy": "2024-06-05T12:34:41.648426Z",
     "iopub.status.idle": "2024-06-05T12:34:58.883780Z",
     "shell.execute_reply": "2024-06-05T12:34:58.882448Z"
    },
    "papermill": {
     "duration": 17.248227,
     "end_time": "2024-06-05T12:34:58.886901",
     "exception": false,
     "start_time": "2024-06-05T12:34:41.638674",
     "status": "completed"
    },
    "tags": []
   },
   "outputs": [
    {
     "name": "stdout",
     "output_type": "stream",
     "text": [
      "Collecting torch_geometric\r\n",
      "  Downloading torch_geometric-2.5.3-py3-none-any.whl.metadata (64 kB)\r\n",
      "\u001b[2K     \u001b[90m━━━━━━━━━━━━━━━━━━━━━━━━━━━━━━━━━━━━━━━━\u001b[0m \u001b[32m64.2/64.2 kB\u001b[0m \u001b[31m2.2 MB/s\u001b[0m eta \u001b[36m0:00:00\u001b[0m\r\n",
      "\u001b[?25hRequirement already satisfied: tqdm in /opt/conda/lib/python3.10/site-packages (from torch_geometric) (4.66.4)\r\n",
      "Requirement already satisfied: numpy in /opt/conda/lib/python3.10/site-packages (from torch_geometric) (1.26.4)\r\n",
      "Requirement already satisfied: scipy in /opt/conda/lib/python3.10/site-packages (from torch_geometric) (1.11.4)\r\n",
      "Requirement already satisfied: fsspec in /opt/conda/lib/python3.10/site-packages (from torch_geometric) (2024.3.1)\r\n",
      "Requirement already satisfied: jinja2 in /opt/conda/lib/python3.10/site-packages (from torch_geometric) (3.1.2)\r\n",
      "Requirement already satisfied: aiohttp in /opt/conda/lib/python3.10/site-packages (from torch_geometric) (3.9.1)\r\n",
      "Requirement already satisfied: requests in /opt/conda/lib/python3.10/site-packages (from torch_geometric) (2.32.3)\r\n",
      "Requirement already satisfied: pyparsing in /opt/conda/lib/python3.10/site-packages (from torch_geometric) (3.1.1)\r\n",
      "Requirement already satisfied: scikit-learn in /opt/conda/lib/python3.10/site-packages (from torch_geometric) (1.2.2)\r\n",
      "Requirement already satisfied: psutil>=5.8.0 in /opt/conda/lib/python3.10/site-packages (from torch_geometric) (5.9.3)\r\n",
      "Requirement already satisfied: attrs>=17.3.0 in /opt/conda/lib/python3.10/site-packages (from aiohttp->torch_geometric) (23.2.0)\r\n",
      "Requirement already satisfied: multidict<7.0,>=4.5 in /opt/conda/lib/python3.10/site-packages (from aiohttp->torch_geometric) (6.0.4)\r\n",
      "Requirement already satisfied: yarl<2.0,>=1.0 in /opt/conda/lib/python3.10/site-packages (from aiohttp->torch_geometric) (1.9.3)\r\n",
      "Requirement already satisfied: frozenlist>=1.1.1 in /opt/conda/lib/python3.10/site-packages (from aiohttp->torch_geometric) (1.4.1)\r\n",
      "Requirement already satisfied: aiosignal>=1.1.2 in /opt/conda/lib/python3.10/site-packages (from aiohttp->torch_geometric) (1.3.1)\r\n",
      "Requirement already satisfied: async-timeout<5.0,>=4.0 in /opt/conda/lib/python3.10/site-packages (from aiohttp->torch_geometric) (4.0.3)\r\n",
      "Requirement already satisfied: MarkupSafe>=2.0 in /opt/conda/lib/python3.10/site-packages (from jinja2->torch_geometric) (2.1.3)\r\n",
      "Requirement already satisfied: charset-normalizer<4,>=2 in /opt/conda/lib/python3.10/site-packages (from requests->torch_geometric) (3.3.2)\r\n",
      "Requirement already satisfied: idna<4,>=2.5 in /opt/conda/lib/python3.10/site-packages (from requests->torch_geometric) (3.6)\r\n",
      "Requirement already satisfied: urllib3<3,>=1.21.1 in /opt/conda/lib/python3.10/site-packages (from requests->torch_geometric) (1.26.18)\r\n",
      "Requirement already satisfied: certifi>=2017.4.17 in /opt/conda/lib/python3.10/site-packages (from requests->torch_geometric) (2024.2.2)\r\n",
      "Requirement already satisfied: joblib>=1.1.1 in /opt/conda/lib/python3.10/site-packages (from scikit-learn->torch_geometric) (1.4.2)\r\n",
      "Requirement already satisfied: threadpoolctl>=2.0.0 in /opt/conda/lib/python3.10/site-packages (from scikit-learn->torch_geometric) (3.2.0)\r\n",
      "Downloading torch_geometric-2.5.3-py3-none-any.whl (1.1 MB)\r\n",
      "\u001b[2K   \u001b[90m━━━━━━━━━━━━━━━━━━━━━━━━━━━━━━━━━━━━━━━━\u001b[0m \u001b[32m1.1/1.1 MB\u001b[0m \u001b[31m22.7 MB/s\u001b[0m eta \u001b[36m0:00:00\u001b[0m\r\n",
      "\u001b[?25hInstalling collected packages: torch_geometric\r\n",
      "Successfully installed torch_geometric-2.5.3\r\n"
     ]
    }
   ],
   "source": [
    "!pip install torch_geometric"
   ]
  },
  {
   "cell_type": "code",
   "execution_count": 8,
   "id": "d9f58d55",
   "metadata": {
    "execution": {
     "iopub.execute_input": "2024-06-05T12:34:58.909734Z",
     "iopub.status.busy": "2024-06-05T12:34:58.909280Z",
     "iopub.status.idle": "2024-06-05T12:35:07.080271Z",
     "shell.execute_reply": "2024-06-05T12:35:07.078900Z"
    },
    "papermill": {
     "duration": 8.186086,
     "end_time": "2024-06-05T12:35:07.083443",
     "exception": false,
     "start_time": "2024-06-05T12:34:58.897357",
     "status": "completed"
    },
    "tags": []
   },
   "outputs": [
    {
     "name": "stdout",
     "output_type": "stream",
     "text": [
      "Maximum index in edge list: 403244581\n",
      "Number of nodes in features: 203769\n"
     ]
    }
   ],
   "source": [
    "import torch\n",
    "import torch.nn.functional as F\n",
    "from torch_geometric.nn import GCNConv\n",
    "import torch\n",
    "from torch_geometric.data import Data\n",
    "from sklearn.preprocessing import LabelEncoder\n",
    "# Get the maximum index in the edge list\n",
    "max_index = max(edges['txId1'].max(), edges['txId2'].max())\n",
    "num_nodes = features.shape[0]\n",
    "\n",
    "print(f'Maximum index in edge list: {max_index}')\n",
    "print(f'Number of nodes in features: {num_nodes}')"
   ]
  },
  {
   "cell_type": "code",
   "execution_count": 9,
   "id": "9ee9ac11",
   "metadata": {
    "execution": {
     "iopub.execute_input": "2024-06-05T12:35:07.106266Z",
     "iopub.status.busy": "2024-06-05T12:35:07.105512Z",
     "iopub.status.idle": "2024-06-05T12:35:07.800091Z",
     "shell.execute_reply": "2024-06-05T12:35:07.799005Z"
    },
    "papermill": {
     "duration": 0.708996,
     "end_time": "2024-06-05T12:35:07.802874",
     "exception": false,
     "start_time": "2024-06-05T12:35:07.093878",
     "status": "completed"
    },
    "tags": []
   },
   "outputs": [],
   "source": [
    "# Create a mapping from transaction IDs to feature indices\n",
    "tx_id_to_index = {tx_id: idx for idx, tx_id in enumerate(features[0])}\n",
    "\n",
    "# Filter and map edges\n",
    "valid_edges = edges[edges['txId1'].isin(tx_id_to_index) & edges['txId2'].isin(tx_id_to_index)]\n",
    "valid_edges['txId1'] = valid_edges['txId1'].map(tx_id_to_index)\n",
    "valid_edges['txId2'] = valid_edges['txId2'].map(tx_id_to_index)\n",
    "\n",
    "# Convert to PyTorch tensor\n",
    "edge_index = torch.tensor(valid_edges.values.T, dtype=torch.long)"
   ]
  },
  {
   "cell_type": "code",
   "execution_count": 10,
   "id": "1457406f",
   "metadata": {
    "execution": {
     "iopub.execute_input": "2024-06-05T12:35:07.824364Z",
     "iopub.status.busy": "2024-06-05T12:35:07.823977Z",
     "iopub.status.idle": "2024-06-05T12:35:08.208843Z",
     "shell.execute_reply": "2024-06-05T12:35:08.207765Z"
    },
    "papermill": {
     "duration": 0.398889,
     "end_time": "2024-06-05T12:35:08.211769",
     "exception": false,
     "start_time": "2024-06-05T12:35:07.812880",
     "status": "completed"
    },
    "tags": []
   },
   "outputs": [],
   "source": [
    "# Extract node features\n",
    "node_features = torch.tensor(features.drop(columns=[0]).values, dtype=torch.float)\n",
    "\n",
    "# Encode class labels\n",
    "le = LabelEncoder()\n",
    "class_labels = le.fit_transform(classes['class'])\n",
    "node_labels = torch.tensor(class_labels, dtype=torch.long)\n"
   ]
  },
  {
   "cell_type": "code",
   "execution_count": 11,
   "id": "70f7454c",
   "metadata": {
    "execution": {
     "iopub.execute_input": "2024-06-05T12:35:08.235459Z",
     "iopub.status.busy": "2024-06-05T12:35:08.234997Z",
     "iopub.status.idle": "2024-06-05T12:35:08.289078Z",
     "shell.execute_reply": "2024-06-05T12:35:08.287794Z"
    },
    "papermill": {
     "duration": 0.068495,
     "end_time": "2024-06-05T12:35:08.292088",
     "exception": false,
     "start_time": "2024-06-05T12:35:08.223593",
     "status": "completed"
    },
    "tags": []
   },
   "outputs": [],
   "source": [
    "from torch_geometric.data import Data\n",
    "\n",
    "# Create the data object\n",
    "data = Data(x=node_features, edge_index=edge_index, y=node_labels)\n",
    "\n",
    "# Create masks for training, validation, and testing\n",
    "num_nodes = data.num_nodes\n",
    "perm = torch.randperm(num_nodes)\n",
    "train_size = int(0.8 * num_nodes)\n",
    "val_size = int(0.1 * num_nodes)\n",
    "test_size = num_nodes - train_size - val_size\n",
    "\n",
    "data.train_mask = torch.zeros(num_nodes, dtype=torch.bool)\n",
    "data.val_mask = torch.zeros(num_nodes, dtype=torch.bool)\n",
    "data.test_mask = torch.zeros(num_nodes, dtype=torch.bool)\n",
    "\n",
    "data.train_mask[perm[:train_size]] = True\n",
    "data.val_mask[perm[train_size:train_size + val_size]] = True\n",
    "data.test_mask[perm[train_size + val_size:]] = True\n"
   ]
  },
  {
   "cell_type": "code",
   "execution_count": 12,
   "id": "66aa12a7",
   "metadata": {
    "execution": {
     "iopub.execute_input": "2024-06-05T12:35:08.315726Z",
     "iopub.status.busy": "2024-06-05T12:35:08.315259Z",
     "iopub.status.idle": "2024-06-05T12:35:08.411224Z",
     "shell.execute_reply": "2024-06-05T12:35:08.409941Z"
    },
    "papermill": {
     "duration": 0.110556,
     "end_time": "2024-06-05T12:35:08.413951",
     "exception": false,
     "start_time": "2024-06-05T12:35:08.303395",
     "status": "completed"
    },
    "tags": []
   },
   "outputs": [],
   "source": [
    "import torch.nn.functional as F\n",
    "from torch_geometric.nn import GCNConv\n",
    "\n",
    "class GCN(torch.nn.Module):\n",
    "    def __init__(self, num_node_features, num_classes):\n",
    "        super(GCN, self).__init__()\n",
    "        self.conv1 = GCNConv(num_node_features, 16)\n",
    "        self.conv2 = GCNConv(16, num_classes)\n",
    "\n",
    "    def forward(self, data):\n",
    "        x, edge_index = data.x, data.edge_index\n",
    "        x = self.conv1(x, edge_index)\n",
    "        x = F.relu(x)\n",
    "        x = self.conv2(x, edge_index)\n",
    "        return F.log_softmax(x, dim=1)\n",
    "\n",
    "# Initialize the model, optimizer, and loss function\n",
    "model = GCN(num_node_features=data.num_features, num_classes=len(le.classes_))\n",
    "optimizer = torch.optim.Adam(model.parameters(), lr=0.01, weight_decay=5e-4)\n",
    "criterion = torch.nn.CrossEntropyLoss()\n"
   ]
  },
  {
   "cell_type": "code",
   "execution_count": 13,
   "id": "6a2d0f6a",
   "metadata": {
    "execution": {
     "iopub.execute_input": "2024-06-05T12:35:08.435647Z",
     "iopub.status.busy": "2024-06-05T12:35:08.435190Z",
     "iopub.status.idle": "2024-06-05T12:35:08.444572Z",
     "shell.execute_reply": "2024-06-05T12:35:08.443374Z"
    },
    "papermill": {
     "duration": 0.022977,
     "end_time": "2024-06-05T12:35:08.446992",
     "exception": false,
     "start_time": "2024-06-05T12:35:08.424015",
     "status": "completed"
    },
    "tags": []
   },
   "outputs": [],
   "source": [
    "# Define the training function\n",
    "def train(model, data, optimizer, criterion):\n",
    "    model.train()\n",
    "    optimizer.zero_grad()\n",
    "    out = model(data)\n",
    "    loss = criterion(out[data.train_mask], data.y[data.train_mask])\n",
    "    loss.backward()\n",
    "    optimizer.step()\n",
    "    return loss.item()\n",
    "\n",
    "# Define the evaluation function\n",
    "def evaluate(model, data):\n",
    "    model.eval()\n",
    "    with torch.no_grad():\n",
    "        out = model(data)\n",
    "        pred = out.argmax(dim=1)\n",
    "        correct = (pred[data.test_mask] == data.y[data.test_mask]).sum()\n",
    "        accuracy = int(correct) / int(data.test_mask.sum())\n",
    "    return accuracy\n"
   ]
  },
  {
   "cell_type": "code",
   "execution_count": 14,
   "id": "69014a15",
   "metadata": {
    "execution": {
     "iopub.execute_input": "2024-06-05T12:35:08.468063Z",
     "iopub.status.busy": "2024-06-05T12:35:08.467642Z",
     "iopub.status.idle": "2024-06-05T12:36:07.306747Z",
     "shell.execute_reply": "2024-06-05T12:36:07.305601Z"
    },
    "papermill": {
     "duration": 58.852641,
     "end_time": "2024-06-05T12:36:07.309213",
     "exception": false,
     "start_time": "2024-06-05T12:35:08.456572",
     "status": "completed"
    },
    "tags": []
   },
   "outputs": [
    {
     "name": "stdout",
     "output_type": "stream",
     "text": [
      "Epoch 000, Loss: 1.7568, Validation Accuracy: 0.3053\n",
      "Epoch 010, Loss: 0.5918, Validation Accuracy: 0.8102\n",
      "Epoch 020, Loss: 0.5231, Validation Accuracy: 0.8222\n",
      "Epoch 030, Loss: 0.4978, Validation Accuracy: 0.8275\n",
      "Epoch 040, Loss: 0.4849, Validation Accuracy: 0.8329\n",
      "Epoch 050, Loss: 0.4762, Validation Accuracy: 0.8346\n",
      "Epoch 060, Loss: 0.4691, Validation Accuracy: 0.8370\n",
      "Epoch 070, Loss: 0.4629, Validation Accuracy: 0.8390\n",
      "Epoch 080, Loss: 0.4573, Validation Accuracy: 0.8401\n",
      "Epoch 090, Loss: 0.4521, Validation Accuracy: 0.8412\n",
      "Epoch 100, Loss: 0.4471, Validation Accuracy: 0.8421\n",
      "Epoch 110, Loss: 0.4423, Validation Accuracy: 0.8421\n",
      "Epoch 120, Loss: 0.4375, Validation Accuracy: 0.8439\n",
      "Epoch 130, Loss: 0.4329, Validation Accuracy: 0.8457\n",
      "Epoch 140, Loss: 0.4285, Validation Accuracy: 0.8469\n",
      "Epoch 150, Loss: 0.4241, Validation Accuracy: 0.8484\n",
      "Epoch 160, Loss: 0.4195, Validation Accuracy: 0.8501\n",
      "Epoch 170, Loss: 0.4154, Validation Accuracy: 0.8513\n",
      "Epoch 180, Loss: 0.4116, Validation Accuracy: 0.8511\n",
      "Epoch 190, Loss: 0.4081, Validation Accuracy: 0.8529\n",
      "Test Accuracy: 0.8537\n"
     ]
    }
   ],
   "source": [
    "# Training loop\n",
    "num_epochs = 200\n",
    "for epoch in range(num_epochs):\n",
    "    loss = train(model, data, optimizer, criterion)\n",
    "    if epoch % 10 == 0:\n",
    "        val_acc = evaluate(model, data)\n",
    "        print(f'Epoch {epoch:03d}, Loss: {loss:.4f}, Validation Accuracy: {val_acc:.4f}')\n",
    "\n",
    "# Evaluate on the test set\n",
    "test_accuracy = evaluate(model, data)\n",
    "print(f'Test Accuracy: {test_accuracy:.4f}')\n"
   ]
  },
  {
   "cell_type": "code",
   "execution_count": 15,
   "id": "9247dc36",
   "metadata": {
    "execution": {
     "iopub.execute_input": "2024-06-05T12:36:07.342569Z",
     "iopub.status.busy": "2024-06-05T12:36:07.342144Z",
     "iopub.status.idle": "2024-06-05T12:36:07.348646Z",
     "shell.execute_reply": "2024-06-05T12:36:07.347510Z"
    },
    "papermill": {
     "duration": 0.026774,
     "end_time": "2024-06-05T12:36:07.351089",
     "exception": false,
     "start_time": "2024-06-05T12:36:07.324315",
     "status": "completed"
    },
    "tags": []
   },
   "outputs": [],
   "source": [
    "# Define the prediction function\n",
    "def predict(model, data):\n",
    "    model.eval()\n",
    "    with torch.no_grad():\n",
    "        out = model(data)\n",
    "        pred = out.argmax(dim=1)\n",
    "    return pred\n"
   ]
  },
  {
   "cell_type": "code",
   "execution_count": 16,
   "id": "0d7ecd3a",
   "metadata": {
    "execution": {
     "iopub.execute_input": "2024-06-05T12:36:07.376583Z",
     "iopub.status.busy": "2024-06-05T12:36:07.376192Z",
     "iopub.status.idle": "2024-06-05T12:36:07.996455Z",
     "shell.execute_reply": "2024-06-05T12:36:07.995024Z"
    },
    "papermill": {
     "duration": 0.636029,
     "end_time": "2024-06-05T12:36:07.999399",
     "exception": false,
     "start_time": "2024-06-05T12:36:07.363370",
     "status": "completed"
    },
    "tags": []
   },
   "outputs": [
    {
     "data": {
      "image/png": "[encoded data removed]",
      "text/plain": [
       "<Figure size 640x480 with 2 Axes>"
      ]
     },
     "metadata": {},
     "output_type": "display_data"
    }
   ],
   "source": [
    "from sklearn.metrics import confusion_matrix, ConfusionMatrixDisplay\n",
    "\n",
    "# Predict on the test set\n",
    "test_pred = predict(model, data)[data.test_mask]\n",
    "\n",
    "# Generate the confusion matrix\n",
    "cm = confusion_matrix(data.y[data.test_mask].cpu(), test_pred.cpu())\n",
    "disp = ConfusionMatrixDisplay(confusion_matrix=cm, display_labels=le.classes_)\n",
    "\n",
    "# Plot the confusion matrix\n",
    "disp.plot(cmap=plt.cm.Blues)\n",
    "plt.title('Confusion Matrix')\n",
    "plt.show()\n"
   ]
  },
  {
   "cell_type": "code",
   "execution_count": null,
   "id": "1307ad58",
   "metadata": {
    "papermill": {
     "duration": 0.012408,
     "end_time": "2024-06-05T12:36:08.024756",
     "exception": false,
     "start_time": "2024-06-05T12:36:08.012348",
     "status": "completed"
    },
    "tags": []
   },
   "outputs": [],
   "source": []
  },
  {
   "cell_type": "code",
   "execution_count": null,
   "id": "26d23eec",
   "metadata": {
    "papermill": {
     "duration": 0.012104,
     "end_time": "2024-06-05T12:36:08.049959",
     "exception": false,
     "start_time": "2024-06-05T12:36:08.037855",
     "status": "completed"
    },
    "tags": []
   },
   "outputs": [],
   "source": []
  }
 ],
 "metadata": {
  "kaggle": {
   "accelerator": "none",
   "dataSources": [
    {
     "datasetId": 284040,
     "sourceId": 584717,
     "sourceType": "datasetVersion"
    }
   ],
   "dockerImageVersionId": 30732,
   "isGpuEnabled": false,
   "isInternetEnabled": true,
   "language": "python",
   "sourceType": "notebook"
  },
  "kernelspec": {
   "display_name": "Python 3",
   "language": "python",
   "name": "python3"
  },
  "language_info": {
   "codemirror_mode": {
    "name": "ipython",
    "version": 3
   },
   "file_extension": ".py",
   "mimetype": "text/x-python",
   "name": "python",
   "nbconvert_exporter": "python",
   "pygments_lexer": "ipython3",
   "version": "3.10.13"
  },
  "papermill": {
   "default_parameters": {},
   "duration": 114.228894,
   "end_time": "2024-06-05T12:36:10.752240",
   "environment_variables": {},
   "exception": null,
   "input_path": "__notebook__.ipynb",
   "output_path": "__notebook__.ipynb",
   "parameters": {},
   "start_time": "2024-06-05T12:34:16.523346",
   "version": "2.5.0"
  }
 },
 "nbformat": 4,
 "nbformat_minor": 5
}
